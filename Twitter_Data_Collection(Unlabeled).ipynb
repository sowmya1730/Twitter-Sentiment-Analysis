{
  "nbformat": 4,
  "nbformat_minor": 0,
  "metadata": {
    "colab": {
      "provenance": []
    },
    "kernelspec": {
      "name": "python3",
      "display_name": "Python 3"
    },
    "language_info": {
      "name": "python"
    }
  },
  "cells": [
    {
      "cell_type": "code",
      "source": [
        "from getpass import getpass\n",
        "\n",
        "API_KEY = getpass(\"Please input your AlphaVantage API Key: \")"
      ],
      "metadata": {
        "colab": {
          "base_uri": "https://localhost:8080/"
        },
        "id": "s1KbJ4ggKoYv",
        "outputId": "0720aec1-e9c2-438e-d59d-526c51a456b9"
      },
      "execution_count": null,
      "outputs": [
        {
          "name": "stdout",
          "output_type": "stream",
          "text": [
            "Please input your AlphaVantage API Key: ··········\n"
          ]
        }
      ]
    },
    {
      "cell_type": "code",
      "source": [
        "import requests\n",
        "import pandas as pd"
      ],
      "metadata": {
        "id": "E9ISCy2yyBX2"
      },
      "execution_count": null,
      "outputs": []
    },
    {
      "cell_type": "code",
      "source": [
        "twitter_data=[]\n"
      ],
      "metadata": {
        "id": "z5Oeu-En9X_Y"
      },
      "execution_count": null,
      "outputs": []
    },
    {
      "cell_type": "code",
      "source": [
        "payload={\n",
        "    'api_key': API_KEY ,\n",
        "    'query':'elon musk',\n",
        "    'limit':'75'\n",
        "\n",
        "}\n",
        "response=requests.get(\n",
        "    'https://api.scraperapi.com/structured/twitter/search', params=payload)\n",
        "\n",
        "data= response.json()"
      ],
      "metadata": {
        "id": "-DKVyYsW9dsx"
      },
      "execution_count": null,
      "outputs": []
    },
    {
      "cell_type": "code",
      "source": [
        "data.keys()"
      ],
      "metadata": {
        "colab": {
          "base_uri": "https://localhost:8080/"
        },
        "id": "FtOaL_2o-Jr4",
        "outputId": "97b11d59-df8f-4c8d-f69c-9d1479fd8836"
      },
      "execution_count": null,
      "outputs": [
        {
          "output_type": "execute_result",
          "data": {
            "text/plain": [
              "dict_keys(['search_information', 'organic_results', 'pagination'])"
            ]
          },
          "metadata": {},
          "execution_count": 16
        }
      ]
    },
    {
      "cell_type": "code",
      "source": [
        "type(data['organic_results'])"
      ],
      "metadata": {
        "colab": {
          "base_uri": "https://localhost:8080/"
        },
        "id": "rM2bzaQk-yWo",
        "outputId": "d636ea12-b1fb-4bc0-cc22-ea61cb11a7fc"
      },
      "execution_count": null,
      "outputs": [
        {
          "output_type": "execute_result",
          "data": {
            "text/plain": [
              "list"
            ]
          },
          "metadata": {},
          "execution_count": 17
        }
      ]
    },
    {
      "cell_type": "code",
      "source": [
        "data['organic_results'][0]['snippet']"
      ],
      "metadata": {
        "colab": {
          "base_uri": "https://localhost:8080/",
          "height": 35
        },
        "id": "imn0Nbty_FSX",
        "outputId": "68d93787-b078-491f-a600-771add360350"
      },
      "execution_count": null,
      "outputs": [
        {
          "output_type": "execute_result",
          "data": {
            "text/plain": [
              "'X Has Already Won Elon Musk closed the acquisition of Twitter, now X, in October of 2022. Once that deal was closed, a bunch of advertisers left the platform\\xa0...'"
            ],
            "application/vnd.google.colaboratory.intrinsic+json": {
              "type": "string"
            }
          },
          "metadata": {},
          "execution_count": 18
        }
      ]
    },
    {
      "cell_type": "code",
      "source": [
        "tweets=data['organic_results']\n",
        "for tweet in tweets:\n",
        "    twitter_data.append(tweet)\n",
        "print(twitter_data)"
      ],
      "metadata": {
        "colab": {
          "base_uri": "https://localhost:8080/"
        },
        "id": "9qDTosYN_RIA",
        "outputId": "218989a9-507e-41f9-a0d4-46480c65a891"
      },
      "execution_count": null,
      "outputs": [
        {
          "output_type": "stream",
          "name": "stdout",
          "text": [
            "[{'position': 0, 'title': 'Elon Musk (@elonmusk) / X', 'snippet': 'X Has Already Won Elon Musk closed the acquisition of Twitter, now X, in October of 2022. Once that deal was closed, a bunch of advertisers left the platform\\xa0...', 'highlighs': ['Elon Musk'], 'link': 'https://twitter.com/elonmusk', 'displayed_link': 'https://twitter.com › elonmusk'}, {'position': 1, 'title': 'Elon Musk', 'snippet': 'Elon Musk · @elonmusk. Only 66 years from first flight to landing on the moon, but now half a century has passed since the last moon landing\\xa0...', 'highlighs': ['Elon Musk'], 'link': 'https://twitter.com/elonmusk/status/1736501431610314798', 'displayed_link': 'https://twitter.com › elonmusk › status'}, {'position': 2, 'title': 'Elon Musk', 'snippet': 'Elon Musk. @elonmusk. This past week, there were hundreds of bogus media stories claiming that I am antisemitic. Nothing could be further from\\xa0...', 'highlighs': ['Elon Musk'], 'link': 'https://twitter.com/elonmusk/status/1726350631181717668', 'displayed_link': 'https://twitter.com › elonmusk › status'}, {'position': 3, 'title': 'You have said the actual truth', 'snippet': 'Conversation. Elon Musk. @elonmusk. You have said the actual truth. 9:52 PM · Nov 15, 2023. ·. 8.1M. Views.', 'highlighs': ['Elon Musk'], 'link': 'https://twitter.com/elonmusk/status/1724908287471272299', 'displayed_link': 'https://twitter.com › elonmusk › status'}, {'position': 4, 'title': 'Elon Musk', 'snippet': 'Elon Musk · @elonmusk. “Diversity, Equity and Inclusion” are propaganda words for racism, sexism and other -isms. This is just as morally wrong\\xa0...', 'highlighs': ['Elon Musk'], 'link': 'https://twitter.com/elonmusk/status/1735821713688940843', 'displayed_link': 'https://twitter.com › elonmusk › status'}, {'position': 5, 'title': 'Elon Musk', 'snippet': 'Conversation. Elon Musk · @elonmusk. 2B or !2B. Image. 8:03 PM · Dec 16, 2023. ·. 41.5M. Views. 23.3K. Reposts · 1,586. Quotes.', 'highlighs': ['Elon Musk'], 'link': 'https://twitter.com/elonmusk/status/1736114804668899781', 'displayed_link': 'https://twitter.com › elonmusk › status'}, {'position': 6, 'title': 'Highlights by Elon Musk (@elonmusk) / X', 'snippet': \"Elon Musk's Highlights ... “Diversity, Equity and Inclusion” are propaganda words for racism, sexism and other -isms. This is just as morally wrong as any other\\xa0...\", 'highlighs': [\"Elon Musk's\"], 'link': 'https://twitter.com/elonmusk/highlights', 'displayed_link': 'https://twitter.com › elonmusk › highlights'}, {'position': 7, 'title': 'Elon Musk', 'snippet': 'Conversation. Elon Musk · @elonmusk. Image. 8:48 AM · Dec 17, 2023. ·. 38.1M. Views. 31.1K. Reposts · 1,852. Quotes · 324.4K. Likes. 4,272. Bookmarks.', 'highlighs': ['Elon Musk'], 'link': 'https://twitter.com/elonmusk/status/1736307316499104165', 'displayed_link': 'https://twitter.com › elonmusk › status'}, {'position': 8, 'title': 'Elon Musk', 'snippet': 'Elon Musk · @elonmusk. DEI must DIE. The point was to end discrimination, not replace it with different discrimination. 7:54 AM · Dec 15\\xa0...', 'highlighs': ['Elon Musk'], 'link': 'https://twitter.com/elonmusk/status/1735568882499211557', 'displayed_link': 'https://twitter.com › elonmusk › status'}]\n"
          ]
        }
      ]
    },
    {
      "cell_type": "code",
      "source": [
        "df=pd.DataFrame(twitter_data)\n",
        "df.to_json('tweets.json',orient='index')\n",
        "print(\"done\")"
      ],
      "metadata": {
        "colab": {
          "base_uri": "https://localhost:8080/"
        },
        "id": "HrvOokef_hWl",
        "outputId": "8066eb09-74de-4021-ef9d-51401474e4dc"
      },
      "execution_count": null,
      "outputs": [
        {
          "output_type": "stream",
          "name": "stdout",
          "text": [
            "done\n"
          ]
        }
      ]
    },
    {
      "cell_type": "code",
      "source": [
        "df"
      ],
      "metadata": {
        "colab": {
          "base_uri": "https://localhost:8080/",
          "height": 332
        },
        "id": "tPeBa9ID_7Y4",
        "outputId": "a730c81d-9acc-4227-b111-62e22febb877"
      },
      "execution_count": null,
      "outputs": [
        {
          "output_type": "execute_result",
          "data": {
            "text/plain": [
              "   position                                    title  \\\n",
              "0         0                Elon Musk (@elonmusk) / X   \n",
              "1         1                                Elon Musk   \n",
              "2         2                                Elon Musk   \n",
              "3         3           You have said the actual truth   \n",
              "4         4                                Elon Musk   \n",
              "5         5                                Elon Musk   \n",
              "6         6  Highlights by Elon Musk (@elonmusk) / X   \n",
              "7         7                                Elon Musk   \n",
              "8         8                                Elon Musk   \n",
              "\n",
              "                                             snippet      highlighs  \\\n",
              "0  X Has Already Won Elon Musk closed the acquisi...    [Elon Musk]   \n",
              "1  Elon Musk · @elonmusk. Only 66 years from firs...    [Elon Musk]   \n",
              "2  Elon Musk. @elonmusk. This past week, there we...    [Elon Musk]   \n",
              "3  Conversation. Elon Musk. @elonmusk. You have s...    [Elon Musk]   \n",
              "4  Elon Musk · @elonmusk. “Diversity, Equity and ...    [Elon Musk]   \n",
              "5  Conversation. Elon Musk · @elonmusk. 2B or !2B...    [Elon Musk]   \n",
              "6  Elon Musk's Highlights ... “Diversity, Equity ...  [Elon Musk's]   \n",
              "7  Conversation. Elon Musk · @elonmusk. Image. 8:...    [Elon Musk]   \n",
              "8  Elon Musk · @elonmusk. DEI must DIE. The point...    [Elon Musk]   \n",
              "\n",
              "                                                link  \\\n",
              "0                       https://twitter.com/elonmusk   \n",
              "1  https://twitter.com/elonmusk/status/1736501431...   \n",
              "2  https://twitter.com/elonmusk/status/1726350631...   \n",
              "3  https://twitter.com/elonmusk/status/1724908287...   \n",
              "4  https://twitter.com/elonmusk/status/1735821713...   \n",
              "5  https://twitter.com/elonmusk/status/1736114804...   \n",
              "6            https://twitter.com/elonmusk/highlights   \n",
              "7  https://twitter.com/elonmusk/status/1736307316...   \n",
              "8  https://twitter.com/elonmusk/status/1735568882...   \n",
              "\n",
              "                                displayed_link  \n",
              "0               https://twitter.com › elonmusk  \n",
              "1      https://twitter.com › elonmusk › status  \n",
              "2      https://twitter.com › elonmusk › status  \n",
              "3      https://twitter.com › elonmusk › status  \n",
              "4      https://twitter.com › elonmusk › status  \n",
              "5      https://twitter.com › elonmusk › status  \n",
              "6  https://twitter.com › elonmusk › highlights  \n",
              "7      https://twitter.com › elonmusk › status  \n",
              "8      https://twitter.com › elonmusk › status  "
            ],
            "text/html": [
              "\n",
              "  <div id=\"df-900583a6-fa33-412a-a12f-0ad8f25bf42d\" class=\"colab-df-container\">\n",
              "    <div>\n",
              "<style scoped>\n",
              "    .dataframe tbody tr th:only-of-type {\n",
              "        vertical-align: middle;\n",
              "    }\n",
              "\n",
              "    .dataframe tbody tr th {\n",
              "        vertical-align: top;\n",
              "    }\n",
              "\n",
              "    .dataframe thead th {\n",
              "        text-align: right;\n",
              "    }\n",
              "</style>\n",
              "<table border=\"1\" class=\"dataframe\">\n",
              "  <thead>\n",
              "    <tr style=\"text-align: right;\">\n",
              "      <th></th>\n",
              "      <th>position</th>\n",
              "      <th>title</th>\n",
              "      <th>snippet</th>\n",
              "      <th>highlighs</th>\n",
              "      <th>link</th>\n",
              "      <th>displayed_link</th>\n",
              "    </tr>\n",
              "  </thead>\n",
              "  <tbody>\n",
              "    <tr>\n",
              "      <th>0</th>\n",
              "      <td>0</td>\n",
              "      <td>Elon Musk (@elonmusk) / X</td>\n",
              "      <td>X Has Already Won Elon Musk closed the acquisi...</td>\n",
              "      <td>[Elon Musk]</td>\n",
              "      <td>https://twitter.com/elonmusk</td>\n",
              "      <td>https://twitter.com › elonmusk</td>\n",
              "    </tr>\n",
              "    <tr>\n",
              "      <th>1</th>\n",
              "      <td>1</td>\n",
              "      <td>Elon Musk</td>\n",
              "      <td>Elon Musk · @elonmusk. Only 66 years from firs...</td>\n",
              "      <td>[Elon Musk]</td>\n",
              "      <td>https://twitter.com/elonmusk/status/1736501431...</td>\n",
              "      <td>https://twitter.com › elonmusk › status</td>\n",
              "    </tr>\n",
              "    <tr>\n",
              "      <th>2</th>\n",
              "      <td>2</td>\n",
              "      <td>Elon Musk</td>\n",
              "      <td>Elon Musk. @elonmusk. This past week, there we...</td>\n",
              "      <td>[Elon Musk]</td>\n",
              "      <td>https://twitter.com/elonmusk/status/1726350631...</td>\n",
              "      <td>https://twitter.com › elonmusk › status</td>\n",
              "    </tr>\n",
              "    <tr>\n",
              "      <th>3</th>\n",
              "      <td>3</td>\n",
              "      <td>You have said the actual truth</td>\n",
              "      <td>Conversation. Elon Musk. @elonmusk. You have s...</td>\n",
              "      <td>[Elon Musk]</td>\n",
              "      <td>https://twitter.com/elonmusk/status/1724908287...</td>\n",
              "      <td>https://twitter.com › elonmusk › status</td>\n",
              "    </tr>\n",
              "    <tr>\n",
              "      <th>4</th>\n",
              "      <td>4</td>\n",
              "      <td>Elon Musk</td>\n",
              "      <td>Elon Musk · @elonmusk. “Diversity, Equity and ...</td>\n",
              "      <td>[Elon Musk]</td>\n",
              "      <td>https://twitter.com/elonmusk/status/1735821713...</td>\n",
              "      <td>https://twitter.com › elonmusk › status</td>\n",
              "    </tr>\n",
              "    <tr>\n",
              "      <th>5</th>\n",
              "      <td>5</td>\n",
              "      <td>Elon Musk</td>\n",
              "      <td>Conversation. Elon Musk · @elonmusk. 2B or !2B...</td>\n",
              "      <td>[Elon Musk]</td>\n",
              "      <td>https://twitter.com/elonmusk/status/1736114804...</td>\n",
              "      <td>https://twitter.com › elonmusk › status</td>\n",
              "    </tr>\n",
              "    <tr>\n",
              "      <th>6</th>\n",
              "      <td>6</td>\n",
              "      <td>Highlights by Elon Musk (@elonmusk) / X</td>\n",
              "      <td>Elon Musk's Highlights ... “Diversity, Equity ...</td>\n",
              "      <td>[Elon Musk's]</td>\n",
              "      <td>https://twitter.com/elonmusk/highlights</td>\n",
              "      <td>https://twitter.com › elonmusk › highlights</td>\n",
              "    </tr>\n",
              "    <tr>\n",
              "      <th>7</th>\n",
              "      <td>7</td>\n",
              "      <td>Elon Musk</td>\n",
              "      <td>Conversation. Elon Musk · @elonmusk. Image. 8:...</td>\n",
              "      <td>[Elon Musk]</td>\n",
              "      <td>https://twitter.com/elonmusk/status/1736307316...</td>\n",
              "      <td>https://twitter.com › elonmusk › status</td>\n",
              "    </tr>\n",
              "    <tr>\n",
              "      <th>8</th>\n",
              "      <td>8</td>\n",
              "      <td>Elon Musk</td>\n",
              "      <td>Elon Musk · @elonmusk. DEI must DIE. The point...</td>\n",
              "      <td>[Elon Musk]</td>\n",
              "      <td>https://twitter.com/elonmusk/status/1735568882...</td>\n",
              "      <td>https://twitter.com › elonmusk › status</td>\n",
              "    </tr>\n",
              "  </tbody>\n",
              "</table>\n",
              "</div>\n",
              "    <div class=\"colab-df-buttons\">\n",
              "\n",
              "  <div class=\"colab-df-container\">\n",
              "    <button class=\"colab-df-convert\" onclick=\"convertToInteractive('df-900583a6-fa33-412a-a12f-0ad8f25bf42d')\"\n",
              "            title=\"Convert this dataframe to an interactive table.\"\n",
              "            style=\"display:none;\">\n",
              "\n",
              "  <svg xmlns=\"http://www.w3.org/2000/svg\" height=\"24px\" viewBox=\"0 -960 960 960\">\n",
              "    <path d=\"M120-120v-720h720v720H120Zm60-500h600v-160H180v160Zm220 220h160v-160H400v160Zm0 220h160v-160H400v160ZM180-400h160v-160H180v160Zm440 0h160v-160H620v160ZM180-180h160v-160H180v160Zm440 0h160v-160H620v160Z\"/>\n",
              "  </svg>\n",
              "    </button>\n",
              "\n",
              "  <style>\n",
              "    .colab-df-container {\n",
              "      display:flex;\n",
              "      gap: 12px;\n",
              "    }\n",
              "\n",
              "    .colab-df-convert {\n",
              "      background-color: #E8F0FE;\n",
              "      border: none;\n",
              "      border-radius: 50%;\n",
              "      cursor: pointer;\n",
              "      display: none;\n",
              "      fill: #1967D2;\n",
              "      height: 32px;\n",
              "      padding: 0 0 0 0;\n",
              "      width: 32px;\n",
              "    }\n",
              "\n",
              "    .colab-df-convert:hover {\n",
              "      background-color: #E2EBFA;\n",
              "      box-shadow: 0px 1px 2px rgba(60, 64, 67, 0.3), 0px 1px 3px 1px rgba(60, 64, 67, 0.15);\n",
              "      fill: #174EA6;\n",
              "    }\n",
              "\n",
              "    .colab-df-buttons div {\n",
              "      margin-bottom: 4px;\n",
              "    }\n",
              "\n",
              "    [theme=dark] .colab-df-convert {\n",
              "      background-color: #3B4455;\n",
              "      fill: #D2E3FC;\n",
              "    }\n",
              "\n",
              "    [theme=dark] .colab-df-convert:hover {\n",
              "      background-color: #434B5C;\n",
              "      box-shadow: 0px 1px 3px 1px rgba(0, 0, 0, 0.15);\n",
              "      filter: drop-shadow(0px 1px 2px rgba(0, 0, 0, 0.3));\n",
              "      fill: #FFFFFF;\n",
              "    }\n",
              "  </style>\n",
              "\n",
              "    <script>\n",
              "      const buttonEl =\n",
              "        document.querySelector('#df-900583a6-fa33-412a-a12f-0ad8f25bf42d button.colab-df-convert');\n",
              "      buttonEl.style.display =\n",
              "        google.colab.kernel.accessAllowed ? 'block' : 'none';\n",
              "\n",
              "      async function convertToInteractive(key) {\n",
              "        const element = document.querySelector('#df-900583a6-fa33-412a-a12f-0ad8f25bf42d');\n",
              "        const dataTable =\n",
              "          await google.colab.kernel.invokeFunction('convertToInteractive',\n",
              "                                                    [key], {});\n",
              "        if (!dataTable) return;\n",
              "\n",
              "        const docLinkHtml = 'Like what you see? Visit the ' +\n",
              "          '<a target=\"_blank\" href=https://colab.research.google.com/notebooks/data_table.ipynb>data table notebook</a>'\n",
              "          + ' to learn more about interactive tables.';\n",
              "        element.innerHTML = '';\n",
              "        dataTable['output_type'] = 'display_data';\n",
              "        await google.colab.output.renderOutput(dataTable, element);\n",
              "        const docLink = document.createElement('div');\n",
              "        docLink.innerHTML = docLinkHtml;\n",
              "        element.appendChild(docLink);\n",
              "      }\n",
              "    </script>\n",
              "  </div>\n",
              "\n",
              "\n",
              "<div id=\"df-d3b26a32-22dd-42d4-9bd0-b59c28270d94\">\n",
              "  <button class=\"colab-df-quickchart\" onclick=\"quickchart('df-d3b26a32-22dd-42d4-9bd0-b59c28270d94')\"\n",
              "            title=\"Suggest charts\"\n",
              "            style=\"display:none;\">\n",
              "\n",
              "<svg xmlns=\"http://www.w3.org/2000/svg\" height=\"24px\"viewBox=\"0 0 24 24\"\n",
              "     width=\"24px\">\n",
              "    <g>\n",
              "        <path d=\"M19 3H5c-1.1 0-2 .9-2 2v14c0 1.1.9 2 2 2h14c1.1 0 2-.9 2-2V5c0-1.1-.9-2-2-2zM9 17H7v-7h2v7zm4 0h-2V7h2v10zm4 0h-2v-4h2v4z\"/>\n",
              "    </g>\n",
              "</svg>\n",
              "  </button>\n",
              "\n",
              "<style>\n",
              "  .colab-df-quickchart {\n",
              "      --bg-color: #E8F0FE;\n",
              "      --fill-color: #1967D2;\n",
              "      --hover-bg-color: #E2EBFA;\n",
              "      --hover-fill-color: #174EA6;\n",
              "      --disabled-fill-color: #AAA;\n",
              "      --disabled-bg-color: #DDD;\n",
              "  }\n",
              "\n",
              "  [theme=dark] .colab-df-quickchart {\n",
              "      --bg-color: #3B4455;\n",
              "      --fill-color: #D2E3FC;\n",
              "      --hover-bg-color: #434B5C;\n",
              "      --hover-fill-color: #FFFFFF;\n",
              "      --disabled-bg-color: #3B4455;\n",
              "      --disabled-fill-color: #666;\n",
              "  }\n",
              "\n",
              "  .colab-df-quickchart {\n",
              "    background-color: var(--bg-color);\n",
              "    border: none;\n",
              "    border-radius: 50%;\n",
              "    cursor: pointer;\n",
              "    display: none;\n",
              "    fill: var(--fill-color);\n",
              "    height: 32px;\n",
              "    padding: 0;\n",
              "    width: 32px;\n",
              "  }\n",
              "\n",
              "  .colab-df-quickchart:hover {\n",
              "    background-color: var(--hover-bg-color);\n",
              "    box-shadow: 0 1px 2px rgba(60, 64, 67, 0.3), 0 1px 3px 1px rgba(60, 64, 67, 0.15);\n",
              "    fill: var(--button-hover-fill-color);\n",
              "  }\n",
              "\n",
              "  .colab-df-quickchart-complete:disabled,\n",
              "  .colab-df-quickchart-complete:disabled:hover {\n",
              "    background-color: var(--disabled-bg-color);\n",
              "    fill: var(--disabled-fill-color);\n",
              "    box-shadow: none;\n",
              "  }\n",
              "\n",
              "  .colab-df-spinner {\n",
              "    border: 2px solid var(--fill-color);\n",
              "    border-color: transparent;\n",
              "    border-bottom-color: var(--fill-color);\n",
              "    animation:\n",
              "      spin 1s steps(1) infinite;\n",
              "  }\n",
              "\n",
              "  @keyframes spin {\n",
              "    0% {\n",
              "      border-color: transparent;\n",
              "      border-bottom-color: var(--fill-color);\n",
              "      border-left-color: var(--fill-color);\n",
              "    }\n",
              "    20% {\n",
              "      border-color: transparent;\n",
              "      border-left-color: var(--fill-color);\n",
              "      border-top-color: var(--fill-color);\n",
              "    }\n",
              "    30% {\n",
              "      border-color: transparent;\n",
              "      border-left-color: var(--fill-color);\n",
              "      border-top-color: var(--fill-color);\n",
              "      border-right-color: var(--fill-color);\n",
              "    }\n",
              "    40% {\n",
              "      border-color: transparent;\n",
              "      border-right-color: var(--fill-color);\n",
              "      border-top-color: var(--fill-color);\n",
              "    }\n",
              "    60% {\n",
              "      border-color: transparent;\n",
              "      border-right-color: var(--fill-color);\n",
              "    }\n",
              "    80% {\n",
              "      border-color: transparent;\n",
              "      border-right-color: var(--fill-color);\n",
              "      border-bottom-color: var(--fill-color);\n",
              "    }\n",
              "    90% {\n",
              "      border-color: transparent;\n",
              "      border-bottom-color: var(--fill-color);\n",
              "    }\n",
              "  }\n",
              "</style>\n",
              "\n",
              "  <script>\n",
              "    async function quickchart(key) {\n",
              "      const quickchartButtonEl =\n",
              "        document.querySelector('#' + key + ' button');\n",
              "      quickchartButtonEl.disabled = true;  // To prevent multiple clicks.\n",
              "      quickchartButtonEl.classList.add('colab-df-spinner');\n",
              "      try {\n",
              "        const charts = await google.colab.kernel.invokeFunction(\n",
              "            'suggestCharts', [key], {});\n",
              "      } catch (error) {\n",
              "        console.error('Error during call to suggestCharts:', error);\n",
              "      }\n",
              "      quickchartButtonEl.classList.remove('colab-df-spinner');\n",
              "      quickchartButtonEl.classList.add('colab-df-quickchart-complete');\n",
              "    }\n",
              "    (() => {\n",
              "      let quickchartButtonEl =\n",
              "        document.querySelector('#df-d3b26a32-22dd-42d4-9bd0-b59c28270d94 button');\n",
              "      quickchartButtonEl.style.display =\n",
              "        google.colab.kernel.accessAllowed ? 'block' : 'none';\n",
              "    })();\n",
              "  </script>\n",
              "</div>\n",
              "    </div>\n",
              "  </div>\n"
            ]
          },
          "metadata": {},
          "execution_count": 21
        }
      ]
    },
    {
      "cell_type": "code",
      "source": [
        "df.to_csv('tweets.csv')\n",
        "from google.colab import files\n",
        "files.download(\"tweets.csv\")"
      ],
      "metadata": {
        "colab": {
          "base_uri": "https://localhost:8080/",
          "height": 17
        },
        "id": "UokQ6HM2_8RO",
        "outputId": "e17e8625-e96e-4775-f4b6-833867e8b392"
      },
      "execution_count": null,
      "outputs": [
        {
          "output_type": "display_data",
          "data": {
            "text/plain": [
              "<IPython.core.display.Javascript object>"
            ],
            "application/javascript": [
              "\n",
              "    async function download(id, filename, size) {\n",
              "      if (!google.colab.kernel.accessAllowed) {\n",
              "        return;\n",
              "      }\n",
              "      const div = document.createElement('div');\n",
              "      const label = document.createElement('label');\n",
              "      label.textContent = `Downloading \"${filename}\": `;\n",
              "      div.appendChild(label);\n",
              "      const progress = document.createElement('progress');\n",
              "      progress.max = size;\n",
              "      div.appendChild(progress);\n",
              "      document.body.appendChild(div);\n",
              "\n",
              "      const buffers = [];\n",
              "      let downloaded = 0;\n",
              "\n",
              "      const channel = await google.colab.kernel.comms.open(id);\n",
              "      // Send a message to notify the kernel that we're ready.\n",
              "      channel.send({})\n",
              "\n",
              "      for await (const message of channel.messages) {\n",
              "        // Send a message to notify the kernel that we're ready.\n",
              "        channel.send({})\n",
              "        if (message.buffers) {\n",
              "          for (const buffer of message.buffers) {\n",
              "            buffers.push(buffer);\n",
              "            downloaded += buffer.byteLength;\n",
              "            progress.value = downloaded;\n",
              "          }\n",
              "        }\n",
              "      }\n",
              "      const blob = new Blob(buffers, {type: 'application/binary'});\n",
              "      const a = document.createElement('a');\n",
              "      a.href = window.URL.createObjectURL(blob);\n",
              "      a.download = filename;\n",
              "      div.appendChild(a);\n",
              "      a.click();\n",
              "      div.remove();\n",
              "    }\n",
              "  "
            ]
          },
          "metadata": {}
        },
        {
          "output_type": "display_data",
          "data": {
            "text/plain": [
              "<IPython.core.display.Javascript object>"
            ],
            "application/javascript": [
              "download(\"download_c4c2a084-3e32-4868-8e02-eaa3c65e425e\", \"tweets.csv\", 2571)"
            ]
          },
          "metadata": {}
        }
      ]
    },
    {
      "cell_type": "code",
      "source": [],
      "metadata": {
        "id": "ty078GqYAQhS"
      },
      "execution_count": null,
      "outputs": []
    }
  ]
}